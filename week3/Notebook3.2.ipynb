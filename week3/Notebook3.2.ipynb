{
 "cells": [
  {
   "cell_type": "markdown",
   "id": "61ea5f6e-6458-4301-85d3-76062b1922a6",
   "metadata": {},
   "source": [
    "# AAI614: Data Science & its Applications\n",
    "\n",
    "*Notebook 3.2: Practice with Data Cleaning*\n",
    "\n",
    "<a href=\"https://colab.research.google.com/github/harmanani/AAI614/blob/main/Week%203/Notebook3.2.ipynb\" target=\"_parent\"><img src=\"https://colab.research.google.com/assets/colab-badge.svg\" alt=\"Open In Colab\"/></a>"
   ]
  },
  {
   "cell_type": "code",
   "execution_count": 1,
   "id": "c94dc240",
   "metadata": {},
   "outputs": [],
   "source": [
    "import pandas as pd\n",
    "import ssl\n",
    "\n",
    "ssl._create_default_https_context = ssl._create_unverified_context"
   ]
  },
  {
   "cell_type": "markdown",
   "id": "eb53db49",
   "metadata": {},
   "source": [
    "Exercise I. Load the following datafile from GitHub"
   ]
  },
  {
   "cell_type": "code",
   "execution_count": 2,
   "id": "dfd04802",
   "metadata": {},
   "outputs": [],
   "source": [
    "grads = pd.read_csv(\"https://raw.githubusercontent.com/harmanani/AAI614/main/Week%203/grads.csv\")"
   ]
  },
  {
   "cell_type": "code",
   "execution_count": 3,
   "id": "674715ec",
   "metadata": {},
   "outputs": [
    {
     "data": {
      "text/html": [
       "<div>\n",
       "<style scoped>\n",
       "    .dataframe tbody tr th:only-of-type {\n",
       "        vertical-align: middle;\n",
       "    }\n",
       "\n",
       "    .dataframe tbody tr th {\n",
       "        vertical-align: top;\n",
       "    }\n",
       "\n",
       "    .dataframe thead th {\n",
       "        text-align: right;\n",
       "    }\n",
       "</style>\n",
       "<table border=\"1\" class=\"dataframe\">\n",
       "  <thead>\n",
       "    <tr style=\"text-align: right;\">\n",
       "      <th></th>\n",
       "      <th>Student Name</th>\n",
       "      <th>Avg Hours Studies per Week</th>\n",
       "      <th>GPA</th>\n",
       "      <th>University</th>\n",
       "      <th>Sense of Humour (0-5)</th>\n",
       "      <th>Salary</th>\n",
       "    </tr>\n",
       "  </thead>\n",
       "  <tbody>\n",
       "    <tr>\n",
       "      <th>0</th>\n",
       "      <td>George</td>\n",
       "      <td>20</td>\n",
       "      <td>NaN</td>\n",
       "      <td>NYU</td>\n",
       "      <td>3.0</td>\n",
       "      <td>$40k</td>\n",
       "    </tr>\n",
       "    <tr>\n",
       "      <th>1</th>\n",
       "      <td>Jerry</td>\n",
       "      <td>35</td>\n",
       "      <td>3.5</td>\n",
       "      <td>Columbia</td>\n",
       "      <td>5.0</td>\n",
       "      <td>$80k</td>\n",
       "    </tr>\n",
       "    <tr>\n",
       "      <th>2</th>\n",
       "      <td>Elaine</td>\n",
       "      <td>55</td>\n",
       "      <td>4.0</td>\n",
       "      <td>Columbia</td>\n",
       "      <td>4.2</td>\n",
       "      <td>$60k</td>\n",
       "    </tr>\n",
       "    <tr>\n",
       "      <th>3</th>\n",
       "      <td>Cosmo</td>\n",
       "      <td>5</td>\n",
       "      <td>2.0</td>\n",
       "      <td>City College</td>\n",
       "      <td>2.0</td>\n",
       "      <td>$25k</td>\n",
       "    </tr>\n",
       "    <tr>\n",
       "      <th>4</th>\n",
       "      <td>Newman</td>\n",
       "      <td>25</td>\n",
       "      <td>2.8</td>\n",
       "      <td>City College</td>\n",
       "      <td>0.0</td>\n",
       "      <td>$50k</td>\n",
       "    </tr>\n",
       "    <tr>\n",
       "      <th>5</th>\n",
       "      <td>Frank</td>\n",
       "      <td>35</td>\n",
       "      <td>3.0</td>\n",
       "      <td>Festivus Uni</td>\n",
       "      <td>NaN</td>\n",
       "      <td>$40k</td>\n",
       "    </tr>\n",
       "    <tr>\n",
       "      <th>6</th>\n",
       "      <td>Estelle</td>\n",
       "      <td>100</td>\n",
       "      <td>3.2</td>\n",
       "      <td>Festivus Uni</td>\n",
       "      <td>1.7</td>\n",
       "      <td>$0k</td>\n",
       "    </tr>\n",
       "    <tr>\n",
       "      <th>7</th>\n",
       "      <td>Leo</td>\n",
       "      <td>15</td>\n",
       "      <td>2.4</td>\n",
       "      <td>Festivus Uni</td>\n",
       "      <td>0.0</td>\n",
       "      <td>$35k</td>\n",
       "    </tr>\n",
       "    <tr>\n",
       "      <th>8</th>\n",
       "      <td>Rachel</td>\n",
       "      <td>50</td>\n",
       "      <td>4.0</td>\n",
       "      <td>Columbia</td>\n",
       "      <td>NaN</td>\n",
       "      <td>$75k</td>\n",
       "    </tr>\n",
       "  </tbody>\n",
       "</table>\n",
       "</div>"
      ],
      "text/plain": [
       "  Student Name  Avg Hours Studies per Week  GPA     University  \\\n",
       "0       George                          20  NaN            NYU   \n",
       "1        Jerry                          35  3.5       Columbia   \n",
       "2       Elaine                          55  4.0       Columbia   \n",
       "3        Cosmo                           5  2.0   City College   \n",
       "4       Newman                          25  2.8   City College   \n",
       "5        Frank                          35  3.0   Festivus Uni   \n",
       "6      Estelle                         100  3.2  Festivus Uni    \n",
       "7          Leo                          15  2.4   Festivus Uni   \n",
       "8       Rachel                          50  4.0       Columbia   \n",
       "\n",
       "   Sense of Humour (0-5) Salary  \n",
       "0                    3.0   $40k  \n",
       "1                    5.0   $80k  \n",
       "2                    4.2   $60k  \n",
       "3                    2.0   $25k  \n",
       "4                    0.0   $50k  \n",
       "5                    NaN   $40k  \n",
       "6                    1.7    $0k  \n",
       "7                    0.0   $35k  \n",
       "8                    NaN   $75k  "
      ]
     },
     "execution_count": 3,
     "metadata": {},
     "output_type": "execute_result"
    }
   ],
   "source": [
    "grads"
   ]
  },
  {
   "cell_type": "code",
   "execution_count": null,
   "id": "7330b38a",
   "metadata": {},
   "outputs": [],
   "source": []
  },
  {
   "cell_type": "markdown",
   "id": "9283d451",
   "metadata": {},
   "source": [
    "Question 1: Identify all the outliers in the above data.  Justify your answers using objective measures."
   ]
  },
  {
   "cell_type": "code",
   "execution_count": 4,
   "id": "e0cd6711",
   "metadata": {},
   "outputs": [
    {
     "name": "stdout",
     "output_type": "stream",
     "text": [
      "  Student Name  Avg Hours Studies per Week     GPA     University  \\\n",
      "0       George                          20  3.1125            NYU   \n",
      "1        Jerry                          35  3.5000       Columbia   \n",
      "2       Elaine                          55  4.0000       Columbia   \n",
      "3        Cosmo                           5  2.0000   City College   \n",
      "4       Newman                          25  2.8000   City College   \n",
      "5        Frank                          35  3.0000   Festivus Uni   \n",
      "6      Estelle                         100  3.2000  Festivus Uni    \n",
      "7          Leo                          15  2.4000   Festivus Uni   \n",
      "8       Rachel                          50  4.0000       Columbia   \n",
      "\n",
      "   Sense of Humour (0-5) Salary  \n",
      "0               3.000000   $40k  \n",
      "1               5.000000   $80k  \n",
      "2               4.200000   $60k  \n",
      "3               2.000000   $25k  \n",
      "4               0.000000   $50k  \n",
      "5               2.271429   $40k  \n",
      "6               1.700000    $0k  \n",
      "7               0.000000   $35k  \n",
      "8               2.271429   $75k  \n"
     ]
    }
   ],
   "source": [
    "# fill missing values with the mean of the column for column GPA\n",
    "grads['GPA'] = grads['GPA'].fillna(grads['GPA'].mean())\n",
    "grads['Sense of Humour (0-5)'] = grads['Sense of Humour (0-5)'].fillna(grads['Sense of Humour (0-5)'].mean())\n",
    "grads['University'] = grads['University'].fillna(grads['University'].mode()[0])\n",
    "print(grads)"
   ]
  },
  {
   "cell_type": "markdown",
   "id": "0bb699a0",
   "metadata": {},
   "source": [
    "Question 2: There are various data that are missing.  Fill-in the missing data or delete the rows/columns that you think you should delete.  Justify your answer"
   ]
  },
  {
   "cell_type": "code",
   "execution_count": null,
   "id": "9b63bbc0",
   "metadata": {},
   "outputs": [],
   "source": []
  },
  {
   "cell_type": "markdown",
   "id": "bfa5a43f",
   "metadata": {},
   "source": [
    "Question 3: Reload the data and fill-in the data using mean method as well as the frequent method."
   ]
  },
  {
   "cell_type": "code",
   "execution_count": null,
   "id": "39e4e77e",
   "metadata": {},
   "outputs": [],
   "source": []
  },
  {
   "cell_type": "markdown",
   "id": "26a4657e",
   "metadata": {},
   "source": [
    "Exercise II. Run the cell below to create a new dataframe called `df_miss`.  Its first column will contain some missing values."
   ]
  },
  {
   "cell_type": "code",
   "execution_count": 5,
   "id": "4565ad8c",
   "metadata": {},
   "outputs": [
    {
     "name": "stdout",
     "output_type": "stream",
     "text": [
      "      col_0     col_1     col_2     col_3     col_4\n",
      "0       NaN       NaN  0.265048  0.783205  0.918001\n",
      "1  0.827355       NaN  0.260480  0.911763  0.260757\n",
      "2  0.766376  0.261531  0.122291  0.386006  0.840081\n",
      "3       NaN       NaN  0.633110  0.584766  0.581232\n",
      "4  0.677205  0.687155  0.438927  0.320927  0.570552\n",
      "5       NaN  0.861074  0.834805  0.105766  0.060408\n",
      "6  0.596882  0.792395  0.226356  0.535201  0.136066\n",
      "7  0.372244  0.151977  0.429822  0.792706  0.406957\n",
      "8  0.177850  0.909252  0.545331  0.100497  0.718721\n",
      "9  0.978429  0.309776  0.260126  0.662900  0.139720\n"
     ]
    },
    {
     "name": "stderr",
     "output_type": "stream",
     "text": [
      "/tmp/ipykernel_780/310065607.py:21: FutureWarning: ChainedAssignmentError: behaviour will change in pandas 3.0!\n",
      "You are setting values through chained assignment. Currently this works in certain cases, but when using Copy-on-Write (which will become the default behaviour in pandas 3.0) this will never work to update the original DataFrame or Series, because the intermediate object on which we are setting values will behave as a copy.\n",
      "A typical example is when you are setting values in a column of a DataFrame, like:\n",
      "\n",
      "df[\"col\"][row_indexer] = value\n",
      "\n",
      "Use `df.loc[row_indexer, \"col\"] = values` instead, to perform the assignment in a single step and ensure this keeps updating the original `df`.\n",
      "\n",
      "See the caveats in the documentation: https://pandas.pydata.org/pandas-docs/stable/user_guide/indexing.html#returning-a-view-versus-a-copy\n",
      "\n",
      "  df_miss['col_0'][ix0] = np.nan\n",
      "/tmp/ipykernel_780/310065607.py:22: FutureWarning: ChainedAssignmentError: behaviour will change in pandas 3.0!\n",
      "You are setting values through chained assignment. Currently this works in certain cases, but when using Copy-on-Write (which will become the default behaviour in pandas 3.0) this will never work to update the original DataFrame or Series, because the intermediate object on which we are setting values will behave as a copy.\n",
      "A typical example is when you are setting values in a column of a DataFrame, like:\n",
      "\n",
      "df[\"col\"][row_indexer] = value\n",
      "\n",
      "Use `df.loc[row_indexer, \"col\"] = values` instead, to perform the assignment in a single step and ensure this keeps updating the original `df`.\n",
      "\n",
      "See the caveats in the documentation: https://pandas.pydata.org/pandas-docs/stable/user_guide/indexing.html#returning-a-view-versus-a-copy\n",
      "\n",
      "  df_miss['col_1'][ix1] = np.nan\n"
     ]
    }
   ],
   "source": [
    "import pandas as pd\n",
    "import numpy as np\n",
    "import random\n",
    "\n",
    "nrows = 10\n",
    "ncols = 5\n",
    "\n",
    "# set a seed for random number generation\n",
    "np.random.seed(314)\n",
    "# create an array filled with random data\n",
    "data = np.array(np.random.rand(nrows, ncols))\n",
    "# put the data to a pandas dataframe\n",
    "df_miss = pd.DataFrame(data)\n",
    "# rename the columns\n",
    "df_miss.columns = ['col_'+str(ii) for ii in range(ncols)]\n",
    "\n",
    "# randomly set some values to missing\n",
    "ix0 = np.random.randint(nrows, size=3)\n",
    "ix1 = np.random.randint(nrows, size=3)\n",
    "\n",
    "df_miss['col_0'][ix0] = np.nan\n",
    "df_miss['col_1'][ix1] = np.nan\n",
    "\n",
    "print(df_miss)"
   ]
  },
  {
   "cell_type": "markdown",
   "id": "5c6e0c64",
   "metadata": {},
   "source": [
    "Impute the missing values (NaN) in `col_0` (but not `col_1`) with the median.  Store the values in the dataframe by using the parameter `inplace`.  Print the dataframe."
   ]
  },
  {
   "cell_type": "code",
   "execution_count": 6,
   "id": "253efe31",
   "metadata": {},
   "outputs": [
    {
     "name": "stdout",
     "output_type": "stream",
     "text": [
      "      col_0     col_1     col_2     col_3     col_4\n",
      "0  0.677205       NaN  0.265048  0.783205  0.918001\n",
      "1  0.827355       NaN  0.260480  0.911763  0.260757\n",
      "2  0.766376  0.261531  0.122291  0.386006  0.840081\n",
      "3  0.677205       NaN  0.633110  0.584766  0.581232\n",
      "4  0.677205  0.687155  0.438927  0.320927  0.570552\n",
      "5  0.677205  0.861074  0.834805  0.105766  0.060408\n",
      "6  0.596882  0.792395  0.226356  0.535201  0.136066\n",
      "7  0.372244  0.151977  0.429822  0.792706  0.406957\n",
      "8  0.177850  0.909252  0.545331  0.100497  0.718721\n",
      "9  0.978429  0.309776  0.260126  0.662900  0.139720\n"
     ]
    },
    {
     "name": "stderr",
     "output_type": "stream",
     "text": [
      "/tmp/ipykernel_780/177808035.py:1: FutureWarning: A value is trying to be set on a copy of a DataFrame or Series through chained assignment using an inplace method.\n",
      "The behavior will change in pandas 3.0. This inplace method will never work because the intermediate object on which we are setting values always behaves as a copy.\n",
      "\n",
      "For example, when doing 'df[col].method(value, inplace=True)', try using 'df.method({col: value}, inplace=True)' or df[col] = df[col].method(value) instead, to perform the operation inplace on the original object.\n",
      "\n",
      "\n",
      "  df_miss['col_0'].fillna(df_miss['col_0'].median(), inplace=True)\n"
     ]
    }
   ],
   "source": [
    "df_miss['col_0'].fillna(df_miss['col_0'].median(), inplace=True)\n",
    "print(df_miss)"
   ]
  },
  {
   "cell_type": "markdown",
   "id": "e2e43725",
   "metadata": {},
   "source": [
    "Impute the missing values in `col_1` with value 0.  Store the values in the dataframe by using the parameter `inplace`.  Print the dataframe."
   ]
  },
  {
   "cell_type": "code",
   "execution_count": 7,
   "id": "d3c600ba",
   "metadata": {},
   "outputs": [
    {
     "name": "stdout",
     "output_type": "stream",
     "text": [
      "      col_0     col_1     col_2     col_3     col_4\n",
      "0  0.677205  0.000000  0.265048  0.783205  0.918001\n",
      "1  0.827355  0.000000  0.260480  0.911763  0.260757\n",
      "2  0.766376  0.261531  0.122291  0.386006  0.840081\n",
      "3  0.677205  0.000000  0.633110  0.584766  0.581232\n",
      "4  0.677205  0.687155  0.438927  0.320927  0.570552\n",
      "5  0.677205  0.861074  0.834805  0.105766  0.060408\n",
      "6  0.596882  0.792395  0.226356  0.535201  0.136066\n",
      "7  0.372244  0.151977  0.429822  0.792706  0.406957\n",
      "8  0.177850  0.909252  0.545331  0.100497  0.718721\n",
      "9  0.978429  0.309776  0.260126  0.662900  0.139720\n"
     ]
    },
    {
     "name": "stderr",
     "output_type": "stream",
     "text": [
      "/tmp/ipykernel_780/2213679435.py:1: FutureWarning: A value is trying to be set on a copy of a DataFrame or Series through chained assignment using an inplace method.\n",
      "The behavior will change in pandas 3.0. This inplace method will never work because the intermediate object on which we are setting values always behaves as a copy.\n",
      "\n",
      "For example, when doing 'df[col].method(value, inplace=True)', try using 'df.method({col: value}, inplace=True)' or df[col] = df[col].method(value) instead, to perform the operation inplace on the original object.\n",
      "\n",
      "\n",
      "  df_miss['col_1'].fillna(0, inplace=True)\n"
     ]
    }
   ],
   "source": [
    "df_miss['col_1'].fillna(0, inplace=True)\n",
    "print(df_miss)"
   ]
  }
 ],
 "metadata": {
  "kernelspec": {
   "display_name": "Python 3 (ipykernel)",
   "language": "python",
   "name": "python3"
  },
  "language_info": {
   "codemirror_mode": {
    "name": "ipython",
    "version": 3
   },
   "file_extension": ".py",
   "mimetype": "text/x-python",
   "name": "python",
   "nbconvert_exporter": "python",
   "pygments_lexer": "ipython3",
   "version": "3.11.11"
  }
 },
 "nbformat": 4,
 "nbformat_minor": 5
}
